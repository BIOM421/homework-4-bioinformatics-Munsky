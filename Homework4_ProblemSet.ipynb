{
 "cells": [
  {
   "cell_type": "markdown",
   "id": "ca22c29c-e6ae-418b-8292-95be9e4d20b4",
   "metadata": {},
   "source": [
    "# Bioinformatics Homework Problems\n",
    "To get credit for this assignment, you must:\n",
    " * (1) complete complete each of codes listed below,\n",
    " * (2) update your README to include the requested figures,\n",
    " * (3) push your resulting repository to the GitHub.\n",
    " "
   ]
  },
  {
   "cell_type": "code",
   "execution_count": 11,
   "id": "81b29390-e55b-4af1-94a3-15225881754c",
   "metadata": {},
   "outputs": [],
   "source": [
    "# Preliminary Codes -- DO NOT CHANGE ANYTHING IN THIS SECTION\n",
    "import pickle, os, sys, threading, Bio\n",
    "import numpy as np\n",
    "from Bio import Entrez, SeqIO, pairwise2, AlignIO, Phylo\n",
    "from Bio.Blast import NCBIWWW, NCBIXML\n",
    "from Bio.Seq import Seq\n",
    "from Bio.SeqRecord import SeqRecord\n",
    "from Bio.SeqUtils import ProtParam\n",
    "from Bio.Phylo.TreeConstruction import DistanceCalculator, DistanceTreeConstructor\n",
    "\n",
    "q1 = 'xxx'\n",
    "q2 = 'XXX'\n",
    "q3 = 'XXX'\n",
    "q4 = 'XXX'\n",
    "q5 = 'XXX'\n",
    "q6 = 'XXX'\n",
    "q7 = 'XXX'\n",
    "q8 = 'XXX'\n",
    "\n",
    "accessionNumbers = ['NC_026437','AF033819','NC_001474','NC_002549',\n",
    "                   'NC_001526','NC_003977','NC_001348','NC_001803',\n",
    "                   'NC_012532','NC_001498','NC_001806','NC_001436','NC_001959']\n",
    "\n",
    "j = int(np.random.random()*13)\n",
    "accession = accessionNumbers[j]\n",
    "fnDat = 'Hwk4Data.pkl'\n",
    "dataDict = {'accession':accession}\n",
    "with open(fnDat, 'wb') as file:\n",
    "    pickle.dump(dataDict, file)\n",
    "\n",
    "def saveResults():\n",
    "    fn = 'Hwk4Answers.pkl'\n",
    "    answerDict = {'q1':q1,'q2':q2,'q3':q3,'q4':q4,'q5':q5,'q6':q6,'q7':q7,'q8':q8}\n",
    "    with open(fn, 'wb') as file:\n",
    "        pickle.dump(answerDict, file)    "
   ]
  },
  {
   "cell_type": "code",
   "execution_count": 13,
   "id": "6bd9706c-7afb-4e44-aa26-99423920eeff",
   "metadata": {
    "tags": []
   },
   "outputs": [
    {
     "name": "stdout",
     "output_type": "stream",
     "text": [
      "The accession number for your sequence is NC_001436\n"
     ]
    }
   ],
   "source": [
    "#Part 1 (Basic Sequence Manupulation) -- For the accession number \"accession\", find the sequence information, and fill in the following blanks:\n",
    "\n",
    "print(f'The accession number for your sequence is {accession}')"
   ]
  },
  {
   "cell_type": "code",
   "execution_count": null,
   "id": "1d29f8d1-c30e-47af-a649-a874c8e5776c",
   "metadata": {},
   "outputs": [],
   "source": [
    "# For the accession number \"accession\", find the sequence information, \n",
    "# and fill in the following blanks.  \n",
    "\n",
    "# NOTE - I recommend using multiple cells to complete this part as some of the\n",
    "# questions (especially q5) may require some work to complete.  If you do this,\n",
    "# please make sure to save your results using the saveResults() function after\n",
    "# you complete each question.\n",
    "\n",
    "q1 = 123 # the LENGTH of the sequence\n",
    "\n",
    "q2 = 'GATCGATC' # the FIRST 100 nucleotides of the sequence\n",
    "\n",
    "q3 = {'gg':123} # a DICTIONARY with the numbers of each of the 16 possible dimers\n",
    "\n",
    "q4 = {'ggg':12} # a DICTIONARY with the numbers of each of the 4**3 = 64 different trimers\n",
    "\n",
    "q5 = 'AGTC' # the largest Open Reading Frame (ORF) in the sequence (assume that you are given the CODING sequence)\n",
    "\n",
    "q6 = 'LMNOP' # the amino acid sequence corresponding to the above ORF\n",
    "\n",
    "print(f'q1 = {q1}, \\nq2 = {q2}, \\nq3 = {q3}, \\nq4 = {q4}, \\nq5 = {q5}, \\nq6 = {q6}')\n",
    "saveResults()"
   ]
  },
  {
   "cell_type": "code",
   "execution_count": 14,
   "id": "12c3b1eb-1cbb-4f7b-ae12-632fb40f827f",
   "metadata": {
    "tags": []
   },
   "outputs": [],
   "source": [
    "#Part 2 (Alignment)\n",
    "\n",
    "# Consider the nine related mRNA sequences with the following accession numbers:\n",
    "sequences = {'seq1':'NM_004417.4',\n",
    "             'seq2':'NM_013642.3',\n",
    "             'seq3':'NM_001085359.3',\n",
    "             'seq4':'XM_038494850.1',\n",
    "             'seq5':'NM_001046452.2',\n",
    "             'seq6':'NM_001257450.2',\n",
    "             'seq7':'XM_030283971.3',\n",
    "             'seq8':'XM_002916919.4',\n",
    "             'seq9':'NM_001256075.1'\n",
    "            }\n",
    "\n",
    "q7 = 'p53' # (Not AutoGraded) Determine what gene has been sequenced (all should be the same gene).  \n",
    "# You will need to find the sequence and manually read through the annotations to find the gene name.\n",
    "# Make sure to include the gene name and a brief description of it in your README file.\n",
    "\n",
    "q8 = ['Homo sapiens','Mus musculus','etc'] # Determine which species has been sequenced (each should be different).\n",
    "# For this one, you should be able to write a code to automatically find the organism name.\n",
    "\n",
    "# Q9 - (Not AutoGraded) Make a figure to visualize the alignment of these sequences,\n",
    "# and add it to the README of your homework repository. Breifly explain your results.\n",
    "\n",
    "# Q10 - (Not AutoGraded) Make a figure to visualize the phylogenetic variation of these sequences, \n",
    "# and add it to the README of your homework repository. Breifly explain your results.\n",
    "\n",
    "# Q11 - (Not AutoGraded) Use BLAST to search for and add at least 5 more species to your list and \n",
    "# generate a more complete phylogenetic tree. Include this in your README file and explain.\n",
    "\n",
    "print(f'q7 = {q7}, \\nq8 = {q8}')\n",
    "saveResults()"
   ]
  }
 ],
 "metadata": {
  "kernelspec": {
   "display_name": "Python 3",
   "language": "python",
   "name": "python3"
  },
  "language_info": {
   "codemirror_mode": {
    "name": "ipython",
    "version": 3
   },
   "file_extension": ".py",
   "mimetype": "text/x-python",
   "name": "python",
   "nbconvert_exporter": "python",
   "pygments_lexer": "ipython3",
   "version": "3.11.5"
  }
 },
 "nbformat": 4,
 "nbformat_minor": 5
}
